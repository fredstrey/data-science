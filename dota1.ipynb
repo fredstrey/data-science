{
 "cells": [
  {
   "cell_type": "code",
   "execution_count": 24,
   "id": "087102a1",
   "metadata": {},
   "outputs": [],
   "source": [
    "import pandas as pd\n",
    "from sklearn.pipeline import Pipeline\n",
    "from sklearn.preprocessing import LabelEncoder, StandardScaler\n",
    "from sklearn.linear_model import LinearRegression\n",
    "from sklearn.model_selection import train_test_split\n",
    "from sklearn.metrics import mean_squared_error\n",
    "\n",
    "# Read the data\n",
    "df = pd.read_csv('dpcmajor.csv')\n",
    "test = pd.read_csv('testdota.csv')"
   ]
  },
  {
   "cell_type": "code",
   "execution_count": 25,
   "id": "5ff02151",
   "metadata": {},
   "outputs": [],
   "source": [
    "# Preprocessing\n",
    "label_encoder = LabelEncoder()\n",
    "df[df.columns[0]] = label_encoder.fit_transform(df[df.columns[0]])\n",
    "df.rename(columns={df.columns[0]: 'TeamId'}, inplace=True)\n",
    "test[test.columns[0]] = label_encoder.fit_transform(test[test.columns[0]])\n",
    "test.rename(columns={test.columns[0]: 'TeamId'}, inplace=True)\n",
    "\n",
    "dicionario = df.iloc[:, :2]\n",
    "dicionario_test = test.iloc[:, :2]\n",
    "df_relevant = df.drop(df.columns[1], axis=1)\n",
    "test_relevant = test.drop(test.columns[1], axis=1)\n"
   ]
  },
  {
   "cell_type": "code",
   "execution_count": 26,
   "id": "f3825f8b",
   "metadata": {},
   "outputs": [],
   "source": [
    "non_relevant_variables = ['Winrate', 'Overall', 'In Wins', 'In Losses', 'Shift']\n",
    "df_relevant.drop(columns=non_relevant_variables, inplace=True)\n",
    "df_relevant['winrate'] = df['Wins'] / (df['Wins'] + df['Losses'])\n",
    "df_relevant.drop(['Wins', 'Losses', 'As Radiant', 'As Dire'], axis=1, inplace=True)\n",
    "test_relevant.drop(columns=non_relevant_variables, inplace=True)\n",
    "test_relevant['winrate'] = test['Wins'] / (test['Wins'] + test['Losses'])\n",
    "test_relevant.drop(['Wins', 'Losses', 'As Radiant', 'As Dire'], axis=1, inplace=True)\n",
    "\n",
    "df_relevant['Kills'] = df_relevant['Kills'].str.replace(',', '.').astype(float)\n",
    "df_relevant['Deaths'] = df_relevant['Deaths'].str.replace(',', '.').astype(float)\n",
    "df_relevant['Assists'] = df_relevant['Assists'].str.replace(',', '.').astype(float)\n",
    "test_relevant['Kills'] = test_relevant['Kills'].str.replace(',', '.').astype(float)\n",
    "test_relevant['Deaths'] = test_relevant['Deaths'].str.replace(',', '.').astype(float)\n",
    "test_relevant['Assists'] = test_relevant['Assists'].str.replace(',', '.').astype(float)"
   ]
  },
  {
   "cell_type": "code",
   "execution_count": 27,
   "id": "332705fd",
   "metadata": {},
   "outputs": [],
   "source": [
    "pipeline = Pipeline([\n",
    "    ('preprocessing', StandardScaler()),  # Preprocessing step\n",
    "    ('regression', LinearRegression())  # Linear regression model\n",
    "])"
   ]
  },
  {
   "cell_type": "code",
   "execution_count": 28,
   "id": "49428fe5",
   "metadata": {},
   "outputs": [],
   "source": [
    "# Prepare the data for training\n",
    "X = df_relevant[['Kills', 'Deaths', 'Assists', 'Denies', 'GPM', 'XPM', 'Last Hits']]\n",
    "y = df_relevant['winrate']\n",
    "X_train, X_test, y_train, y_test = train_test_split(X, y, test_size=0.2, random_state=42)\n"
   ]
  },
  {
   "cell_type": "code",
   "execution_count": 29,
   "id": "4bf1d0d4",
   "metadata": {},
   "outputs": [
    {
     "data": {
      "text/html": [
       "<style>#sk-container-id-2 {color: black;background-color: white;}#sk-container-id-2 pre{padding: 0;}#sk-container-id-2 div.sk-toggleable {background-color: white;}#sk-container-id-2 label.sk-toggleable__label {cursor: pointer;display: block;width: 100%;margin-bottom: 0;padding: 0.3em;box-sizing: border-box;text-align: center;}#sk-container-id-2 label.sk-toggleable__label-arrow:before {content: \"▸\";float: left;margin-right: 0.25em;color: #696969;}#sk-container-id-2 label.sk-toggleable__label-arrow:hover:before {color: black;}#sk-container-id-2 div.sk-estimator:hover label.sk-toggleable__label-arrow:before {color: black;}#sk-container-id-2 div.sk-toggleable__content {max-height: 0;max-width: 0;overflow: hidden;text-align: left;background-color: #f0f8ff;}#sk-container-id-2 div.sk-toggleable__content pre {margin: 0.2em;color: black;border-radius: 0.25em;background-color: #f0f8ff;}#sk-container-id-2 input.sk-toggleable__control:checked~div.sk-toggleable__content {max-height: 200px;max-width: 100%;overflow: auto;}#sk-container-id-2 input.sk-toggleable__control:checked~label.sk-toggleable__label-arrow:before {content: \"▾\";}#sk-container-id-2 div.sk-estimator input.sk-toggleable__control:checked~label.sk-toggleable__label {background-color: #d4ebff;}#sk-container-id-2 div.sk-label input.sk-toggleable__control:checked~label.sk-toggleable__label {background-color: #d4ebff;}#sk-container-id-2 input.sk-hidden--visually {border: 0;clip: rect(1px 1px 1px 1px);clip: rect(1px, 1px, 1px, 1px);height: 1px;margin: -1px;overflow: hidden;padding: 0;position: absolute;width: 1px;}#sk-container-id-2 div.sk-estimator {font-family: monospace;background-color: #f0f8ff;border: 1px dotted black;border-radius: 0.25em;box-sizing: border-box;margin-bottom: 0.5em;}#sk-container-id-2 div.sk-estimator:hover {background-color: #d4ebff;}#sk-container-id-2 div.sk-parallel-item::after {content: \"\";width: 100%;border-bottom: 1px solid gray;flex-grow: 1;}#sk-container-id-2 div.sk-label:hover label.sk-toggleable__label {background-color: #d4ebff;}#sk-container-id-2 div.sk-serial::before {content: \"\";position: absolute;border-left: 1px solid gray;box-sizing: border-box;top: 0;bottom: 0;left: 50%;z-index: 0;}#sk-container-id-2 div.sk-serial {display: flex;flex-direction: column;align-items: center;background-color: white;padding-right: 0.2em;padding-left: 0.2em;position: relative;}#sk-container-id-2 div.sk-item {position: relative;z-index: 1;}#sk-container-id-2 div.sk-parallel {display: flex;align-items: stretch;justify-content: center;background-color: white;position: relative;}#sk-container-id-2 div.sk-item::before, #sk-container-id-2 div.sk-parallel-item::before {content: \"\";position: absolute;border-left: 1px solid gray;box-sizing: border-box;top: 0;bottom: 0;left: 50%;z-index: -1;}#sk-container-id-2 div.sk-parallel-item {display: flex;flex-direction: column;z-index: 1;position: relative;background-color: white;}#sk-container-id-2 div.sk-parallel-item:first-child::after {align-self: flex-end;width: 50%;}#sk-container-id-2 div.sk-parallel-item:last-child::after {align-self: flex-start;width: 50%;}#sk-container-id-2 div.sk-parallel-item:only-child::after {width: 0;}#sk-container-id-2 div.sk-dashed-wrapped {border: 1px dashed gray;margin: 0 0.4em 0.5em 0.4em;box-sizing: border-box;padding-bottom: 0.4em;background-color: white;}#sk-container-id-2 div.sk-label label {font-family: monospace;font-weight: bold;display: inline-block;line-height: 1.2em;}#sk-container-id-2 div.sk-label-container {text-align: center;}#sk-container-id-2 div.sk-container {/* jupyter's `normalize.less` sets `[hidden] { display: none; }` but bootstrap.min.css set `[hidden] { display: none !important; }` so we also need the `!important` here to be able to override the default hidden behavior on the sphinx rendered scikit-learn.org. See: https://github.com/scikit-learn/scikit-learn/issues/21755 */display: inline-block !important;position: relative;}#sk-container-id-2 div.sk-text-repr-fallback {display: none;}</style><div id=\"sk-container-id-2\" class=\"sk-top-container\"><div class=\"sk-text-repr-fallback\"><pre>Pipeline(steps=[(&#x27;preprocessing&#x27;, StandardScaler()),\n",
       "                (&#x27;regression&#x27;, LinearRegression())])</pre><b>In a Jupyter environment, please rerun this cell to show the HTML representation or trust the notebook. <br />On GitHub, the HTML representation is unable to render, please try loading this page with nbviewer.org.</b></div><div class=\"sk-container\" hidden><div class=\"sk-item sk-dashed-wrapped\"><div class=\"sk-label-container\"><div class=\"sk-label sk-toggleable\"><input class=\"sk-toggleable__control sk-hidden--visually\" id=\"sk-estimator-id-4\" type=\"checkbox\" ><label for=\"sk-estimator-id-4\" class=\"sk-toggleable__label sk-toggleable__label-arrow\">Pipeline</label><div class=\"sk-toggleable__content\"><pre>Pipeline(steps=[(&#x27;preprocessing&#x27;, StandardScaler()),\n",
       "                (&#x27;regression&#x27;, LinearRegression())])</pre></div></div></div><div class=\"sk-serial\"><div class=\"sk-item\"><div class=\"sk-estimator sk-toggleable\"><input class=\"sk-toggleable__control sk-hidden--visually\" id=\"sk-estimator-id-5\" type=\"checkbox\" ><label for=\"sk-estimator-id-5\" class=\"sk-toggleable__label sk-toggleable__label-arrow\">StandardScaler</label><div class=\"sk-toggleable__content\"><pre>StandardScaler()</pre></div></div></div><div class=\"sk-item\"><div class=\"sk-estimator sk-toggleable\"><input class=\"sk-toggleable__control sk-hidden--visually\" id=\"sk-estimator-id-6\" type=\"checkbox\" ><label for=\"sk-estimator-id-6\" class=\"sk-toggleable__label sk-toggleable__label-arrow\">LinearRegression</label><div class=\"sk-toggleable__content\"><pre>LinearRegression()</pre></div></div></div></div></div></div></div>"
      ],
      "text/plain": [
       "Pipeline(steps=[('preprocessing', StandardScaler()),\n",
       "                ('regression', LinearRegression())])"
      ]
     },
     "execution_count": 29,
     "metadata": {},
     "output_type": "execute_result"
    }
   ],
   "source": [
    "pipeline.fit(X_train, y_train)"
   ]
  },
  {
   "cell_type": "code",
   "execution_count": 30,
   "id": "7b1210ed",
   "metadata": {},
   "outputs": [
    {
     "data": {
      "text/plain": [
       "0.004424997993731984"
      ]
     },
     "execution_count": 30,
     "metadata": {},
     "output_type": "execute_result"
    }
   ],
   "source": [
    "y_pred = pipeline.predict(X_test)\n",
    "mse = mean_squared_error(y_test, y_pred)\n",
    "mse"
   ]
  },
  {
   "cell_type": "code",
   "execution_count": 31,
   "id": "08952f14",
   "metadata": {},
   "outputs": [],
   "source": [
    "X_new = test_relevant[['Kills', 'Deaths', 'Assists', 'Denies', 'GPM', 'XPM', 'Last Hits']]\n",
    "y_new = pipeline.predict(X_new)"
   ]
  },
  {
   "cell_type": "code",
   "execution_count": 32,
   "id": "69772b1b",
   "metadata": {},
   "outputs": [],
   "source": [
    "base_submission = pd.DataFrame({'TeamId': test_relevant['TeamId'], 'Winrate': y_new})\n",
    "base_submission = pd.merge(base_submission, dicionario_test, how='inner', on='TeamId')\n",
    "base_submission.drop('TeamId', axis=1)\n",
    "base_submission = base_submission.sort_values('Winrate', ascending=False)\n",
    "base_submission.to_csv('previsão.csv', index=False)"
   ]
  },
  {
   "cell_type": "code",
   "execution_count": 33,
   "id": "58518b5a",
   "metadata": {},
   "outputs": [],
   "source": [
    "sorted_test = test.sort_values('Winrate', ascending=False)\n",
    "sorted_test = test[[test.columns[1], 'Winrate','TeamId']].sort_values('Winrate', ascending=False)\n",
    "comparison = base_submission.merge(sorted_test, on='TeamId', suffixes=('_prediction', '_real'))\n",
    "comparison['Winrate_real']=comparison['Winrate_real'].str.replace(',', '.')\n",
    "comparison['Winrate_real'] = comparison['Winrate_real'].str.replace('%', '').astype(float)/100\n",
    "comparison.drop(['TeamId', comparison.columns[3]], axis=1, inplace=True)"
   ]
  },
  {
   "cell_type": "code",
   "execution_count": 37,
   "id": "5a159eda",
   "metadata": {},
   "outputs": [
    {
     "data": {
      "text/html": [
       "<div>\n",
       "<style scoped>\n",
       "    .dataframe tbody tr th:only-of-type {\n",
       "        vertical-align: middle;\n",
       "    }\n",
       "\n",
       "    .dataframe tbody tr th {\n",
       "        vertical-align: top;\n",
       "    }\n",
       "\n",
       "    .dataframe thead th {\n",
       "        text-align: right;\n",
       "    }\n",
       "</style>\n",
       "<table border=\"1\" class=\"dataframe\">\n",
       "  <thead>\n",
       "    <tr style=\"text-align: right;\">\n",
       "      <th></th>\n",
       "      <th>Team</th>\n",
       "      <th>Winrate_prediction</th>\n",
       "      <th>Winrate_real</th>\n",
       "      <th>erro</th>\n",
       "    </tr>\n",
       "  </thead>\n",
       "  <tbody>\n",
       "    <tr>\n",
       "      <th>0</th>\n",
       "      <td>Quest Esports</td>\n",
       "      <td>0.668839</td>\n",
       "      <td>0.7500</td>\n",
       "      <td>-0.081161</td>\n",
       "    </tr>\n",
       "    <tr>\n",
       "      <th>2</th>\n",
       "      <td>Team Liquid</td>\n",
       "      <td>0.648991</td>\n",
       "      <td>0.7368</td>\n",
       "      <td>-0.087809</td>\n",
       "    </tr>\n",
       "    <tr>\n",
       "      <th>1</th>\n",
       "      <td>BetBoom Team</td>\n",
       "      <td>0.655457</td>\n",
       "      <td>0.6667</td>\n",
       "      <td>-0.011243</td>\n",
       "    </tr>\n",
       "    <tr>\n",
       "      <th>3</th>\n",
       "      <td>Gaimin Gladiators</td>\n",
       "      <td>0.639887</td>\n",
       "      <td>0.6316</td>\n",
       "      <td>0.008287</td>\n",
       "    </tr>\n",
       "    <tr>\n",
       "      <th>4</th>\n",
       "      <td>Team Aster</td>\n",
       "      <td>0.596381</td>\n",
       "      <td>0.6250</td>\n",
       "      <td>-0.028619</td>\n",
       "    </tr>\n",
       "    <tr>\n",
       "      <th>8</th>\n",
       "      <td>PSG.LGD</td>\n",
       "      <td>0.560192</td>\n",
       "      <td>0.5789</td>\n",
       "      <td>-0.018708</td>\n",
       "    </tr>\n",
       "    <tr>\n",
       "      <th>9</th>\n",
       "      <td>beastcoast</td>\n",
       "      <td>0.535103</td>\n",
       "      <td>0.5789</td>\n",
       "      <td>-0.043797</td>\n",
       "    </tr>\n",
       "    <tr>\n",
       "      <th>5</th>\n",
       "      <td>Team Spirit</td>\n",
       "      <td>0.596043</td>\n",
       "      <td>0.5625</td>\n",
       "      <td>0.033543</td>\n",
       "    </tr>\n",
       "    <tr>\n",
       "      <th>6</th>\n",
       "      <td>Tundra Esports</td>\n",
       "      <td>0.594477</td>\n",
       "      <td>0.5556</td>\n",
       "      <td>0.038877</td>\n",
       "    </tr>\n",
       "    <tr>\n",
       "      <th>7</th>\n",
       "      <td>9Pandas</td>\n",
       "      <td>0.569159</td>\n",
       "      <td>0.5000</td>\n",
       "      <td>0.069159</td>\n",
       "    </tr>\n",
       "    <tr>\n",
       "      <th>10</th>\n",
       "      <td>Azure Ray</td>\n",
       "      <td>0.529512</td>\n",
       "      <td>0.4737</td>\n",
       "      <td>0.055812</td>\n",
       "    </tr>\n",
       "    <tr>\n",
       "      <th>12</th>\n",
       "      <td>BLEED</td>\n",
       "      <td>0.385861</td>\n",
       "      <td>0.4211</td>\n",
       "      <td>-0.035239</td>\n",
       "    </tr>\n",
       "    <tr>\n",
       "      <th>13</th>\n",
       "      <td>Shopify Rebellion</td>\n",
       "      <td>0.382885</td>\n",
       "      <td>0.4211</td>\n",
       "      <td>-0.038215</td>\n",
       "    </tr>\n",
       "    <tr>\n",
       "      <th>14</th>\n",
       "      <td>Blacklist Rivalry</td>\n",
       "      <td>0.380894</td>\n",
       "      <td>0.3684</td>\n",
       "      <td>0.012494</td>\n",
       "    </tr>\n",
       "    <tr>\n",
       "      <th>11</th>\n",
       "      <td>Execration</td>\n",
       "      <td>0.409341</td>\n",
       "      <td>0.3125</td>\n",
       "      <td>0.096841</td>\n",
       "    </tr>\n",
       "    <tr>\n",
       "      <th>17</th>\n",
       "      <td>nouns</td>\n",
       "      <td>0.214916</td>\n",
       "      <td>0.3125</td>\n",
       "      <td>-0.097584</td>\n",
       "    </tr>\n",
       "    <tr>\n",
       "      <th>15</th>\n",
       "      <td>INVICTUS GAMING</td>\n",
       "      <td>0.321517</td>\n",
       "      <td>0.2500</td>\n",
       "      <td>0.071517</td>\n",
       "    </tr>\n",
       "    <tr>\n",
       "      <th>16</th>\n",
       "      <td>Evil Geniuses</td>\n",
       "      <td>0.215089</td>\n",
       "      <td>0.1875</td>\n",
       "      <td>0.027589</td>\n",
       "    </tr>\n",
       "  </tbody>\n",
       "</table>\n",
       "</div>"
      ],
      "text/plain": [
       "                 Team  Winrate_prediction  Winrate_real      erro\n",
       "0       Quest Esports            0.668839        0.7500 -0.081161\n",
       "2         Team Liquid            0.648991        0.7368 -0.087809\n",
       "1        BetBoom Team            0.655457        0.6667 -0.011243\n",
       "3   Gaimin Gladiators            0.639887        0.6316  0.008287\n",
       "4          Team Aster            0.596381        0.6250 -0.028619\n",
       "8             PSG.LGD            0.560192        0.5789 -0.018708\n",
       "9          beastcoast            0.535103        0.5789 -0.043797\n",
       "5         Team Spirit            0.596043        0.5625  0.033543\n",
       "6      Tundra Esports            0.594477        0.5556  0.038877\n",
       "7             9Pandas            0.569159        0.5000  0.069159\n",
       "10          Azure Ray            0.529512        0.4737  0.055812\n",
       "12              BLEED            0.385861        0.4211 -0.035239\n",
       "13  Shopify Rebellion            0.382885        0.4211 -0.038215\n",
       "14  Blacklist Rivalry            0.380894        0.3684  0.012494\n",
       "11         Execration            0.409341        0.3125  0.096841\n",
       "17              nouns            0.214916        0.3125 -0.097584\n",
       "15    INVICTUS GAMING            0.321517        0.2500  0.071517\n",
       "16      Evil Geniuses            0.215089        0.1875  0.027589"
      ]
     },
     "execution_count": 37,
     "metadata": {},
     "output_type": "execute_result"
    }
   ],
   "source": [
    "erro = comparison['Winrate_prediction'] - (comparison['Winrate_real'])\n",
    "comparison['erro']=erro\n",
    "comparison.rename(columns={comparison.columns[1]: 'Team'}, inplace=True)\n",
    "comparison = comparison[['Team', 'Winrate_prediction', 'Winrate_real', 'erro']]\n",
    "comparison=comparison.sort_values('Winrate_real', ascending=False)\n",
    "comparison"
   ]
  },
  {
   "cell_type": "code",
   "execution_count": null,
   "id": "a17adc53",
   "metadata": {},
   "outputs": [],
   "source": []
  }
 ],
 "metadata": {
  "kernelspec": {
   "display_name": "Python 3 (ipykernel)",
   "language": "python",
   "name": "python3"
  },
  "language_info": {
   "codemirror_mode": {
    "name": "ipython",
    "version": 3
   },
   "file_extension": ".py",
   "mimetype": "text/x-python",
   "name": "python",
   "nbconvert_exporter": "python",
   "pygments_lexer": "ipython3",
   "version": "3.10.11"
  }
 },
 "nbformat": 4,
 "nbformat_minor": 5
}
